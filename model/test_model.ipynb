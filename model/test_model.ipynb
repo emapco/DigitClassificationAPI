{
 "cells": [
  {
   "cell_type": "code",
   "execution_count": 103,
   "metadata": {
    "collapsed": true
   },
   "outputs": [],
   "source": [
    "import pickle\n",
    "\n",
    "import cv2\n",
    "import numpy as np\n",
    "import tensorflow as tf\n",
    "from sklearn.ensemble import RandomForestClassifier\n",
    "from sklearn.neighbors import KNeighborsClassifier\n",
    "from sklearn.preprocessing import Normalizer"
   ]
  },
  {
   "cell_type": "code",
   "execution_count": 62,
   "outputs": [],
   "source": [
    "def vect_norm_x_image_data(*args):\n",
    "    norm_vect_data = []\n",
    "    for index, arg in enumerate(args):\n",
    "        # vectorize image data by reshaping the axes\n",
    "        vectorized_shape = (arg.shape[0], arg.shape[1] * arg.shape[2])\n",
    "        vect_arg = np.array(arg).reshape(vectorized_shape)\n",
    "        # improve performance by normalizing data\n",
    "        norm_vect_data.append(Normalizer().transform(vect_arg))\n",
    "    return norm_vect_data\n",
    "\n",
    "def unpickle_model(file_name):\n",
    "    with open(file_name, 'rb') as file:\n",
    "        return pickle.load(file)"
   ],
   "metadata": {
    "collapsed": false,
    "pycharm": {
     "name": "#%%\n"
    }
   }
  },
  {
   "cell_type": "code",
   "execution_count": 111,
   "outputs": [
    {
     "name": "stdout",
     "output_type": "stream",
     "text": [
      "x_test shape: (10000, 784)\n",
      "y_test shape: (10000,)\n",
      "\n"
     ]
    }
   ],
   "source": [
    "_, (x_test, y_test) = tf.keras.datasets.mnist.load_data(path=\"mnist.npz\")\n",
    "x_test, = vect_norm_x_image_data(x_test)\n",
    "print(f\"x_test shape: {x_test.shape}\")\n",
    "print(f\"y_test shape: {y_test.shape}\\n\")"
   ],
   "metadata": {
    "collapsed": false,
    "pycharm": {
     "name": "#%%\n"
    }
   }
  },
  {
   "cell_type": "code",
   "execution_count": null,
   "outputs": [],
   "source": [
    "k_neighbors: KNeighborsClassifier = unpickle_model('kneighbors_digit_model.dat')\n",
    "y_pred = k_neighbors.predict(x_test)\n",
    "score = k_neighbors.score(x_test, y_test)\n",
    "print(f'Score = {score}')\n",
    "print('Predicted Actual')\n",
    "print('--------- ------')\n",
    "for i, prediction in enumerate(y_pred):\n",
    "    if i == 100:\n",
    "        break\n",
    "    print('{0:9} {1:6}'.format(prediction, y_test[i]))"
   ],
   "metadata": {
    "collapsed": false,
    "pycharm": {
     "name": "#%%\n",
     "is_executing": true
    }
   }
  },
  {
   "cell_type": "code",
   "execution_count": null,
   "outputs": [],
   "source": [
    "random_forest: RandomForestClassifier = unpickle_model('randomforest_digit_model.dat')\n",
    "y_pred = random_forest.predict(x_test)\n",
    "score = random_forest.score(x_test, y_test)\n",
    "print(f'Score = {score}')\n",
    "print('Predicted Actual')\n",
    "print('--------- ------')\n",
    "for i, prediction in enumerate(y_pred):\n",
    "    if i == 100:\n",
    "        break\n",
    "    print('{0:9} {1:6}'.format(prediction, y_test[i]))"
   ],
   "metadata": {
    "collapsed": false,
    "pycharm": {
     "name": "#%%\n",
     "is_executing": true
    }
   }
  },
  {
   "cell_type": "code",
   "execution_count": 139,
   "outputs": [],
   "source": [
    "def predict(image):\n",
    "    img = cv2.imread(image, 0)\n",
    "    img = cv2.resize(img, (28, 28))  # resize: model trained on 28x28\n",
    "    img = cv2.bitwise_not(img)  # invert black and white\n",
    "\n",
    "    img = img.reshape(img.shape[0] * img.shape[1])\n",
    "    img = img/255  # scale 255 to 1\n",
    "    img = np.array([img])\n",
    "\n",
    "    pred = random_forest.predict(img)[0]\n",
    "    pred_prob = random_forest.predict_proba(img)\n",
    "    print(f'Random forest prediction: {pred}')\n",
    "    print(f'{pred_prob}\\n')\n",
    "\n",
    "    pred = k_neighbors.predict(img)[0]\n",
    "    pred_prob = k_neighbors.predict_proba(img)\n",
    "    print(f'K neighbors prediction: {pred}')\n",
    "    print(f'{pred_prob}\\n\\n')"
   ],
   "metadata": {
    "collapsed": false,
    "pycharm": {
     "name": "#%%\n"
    }
   }
  }
 ],
 "metadata": {
  "kernelspec": {
   "display_name": "Python 3",
   "language": "python",
   "name": "python3"
  },
  "language_info": {
   "codemirror_mode": {
    "name": "ipython",
    "version": 2
   },
   "file_extension": ".py",
   "mimetype": "text/x-python",
   "name": "python",
   "nbconvert_exporter": "python",
   "pygments_lexer": "ipython2",
   "version": "2.7.6"
  }
 },
 "nbformat": 4,
 "nbformat_minor": 0
}