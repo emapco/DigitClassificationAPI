{
 "cells": [
  {
   "cell_type": "code",
   "execution_count": 103,
   "metadata": {
    "collapsed": true
   },
   "outputs": [],
   "source": [
    "import pickle\n",
    "\n",
    "import cv2\n",
    "import numpy as np\n",
    "import tensorflow as tf\n",
    "from sklearn.ensemble import RandomForestClassifier\n",
    "from sklearn.neighbors import KNeighborsClassifier\n",
    "from sklearn.preprocessing import Normalizer"
   ]
  },
  {
   "cell_type": "code",
   "execution_count": 62,
   "outputs": [],
   "source": [
    "def vect_norm_x_image_data(*args):\n",
    "    norm_vect_data = []\n",
    "    for index, arg in enumerate(args):\n",
    "        # vectorize image data by reshaping the axes\n",
    "        vectorized_shape = (arg.shape[0], arg.shape[1] * arg.shape[2])\n",
    "        vect_arg = np.array(arg).reshape(vectorized_shape)\n",
    "        # improve performance by normalizing data\n",
    "        norm_vect_data.append(Normalizer().transform(vect_arg))\n",
    "    return norm_vect_data\n",
    "\n",
    "def unpickle_model(file_name):\n",
    "    with open(file_name, 'rb') as file:\n",
    "        return pickle.load(file)"
   ],
   "metadata": {
    "collapsed": false,
    "pycharm": {
     "name": "#%%\n"
    }
   }
  },
  {
   "cell_type": "code",
   "execution_count": 111,
   "outputs": [
    {
     "name": "stdout",
     "output_type": "stream",
     "text": [
      "x_test shape: (10000, 784)\n",
      "y_test shape: (10000,)\n",
      "\n"
     ]
    }
   ],
   "source": [
    "_, (x_test, y_test) = tf.keras.datasets.mnist.load_data(path=\"mnist.npz\")\n",
    "x_test, = vect_norm_x_image_data(x_test)\n",
    "print(f\"x_test shape: {x_test.shape}\")\n",
    "print(f\"y_test shape: {y_test.shape}\\n\")"
   ],
   "metadata": {
    "collapsed": false,
    "pycharm": {
     "name": "#%%\n"
    }
   }
  },
  {
   "cell_type": "code",
   "execution_count": 27,
   "outputs": [
    {
     "name": "stdout",
     "output_type": "stream",
     "text": [
      "x_test shape: (10000, 784)\n",
      "y_test shape: (10000,)\n",
      "\n",
      "Score = 0.9753\n",
      "Predicted Actual\n",
      "--------- ------\n",
      "        7      7\n",
      "        2      2\n",
      "        1      1\n",
      "        0      0\n",
      "        4      4\n",
      "        1      1\n",
      "        4      4\n",
      "        9      9\n",
      "        5      5\n",
      "        9      9\n",
      "        0      0\n",
      "        6      6\n",
      "        9      9\n",
      "        0      0\n",
      "        1      1\n",
      "        5      5\n",
      "        9      9\n",
      "        7      7\n",
      "        3      3\n",
      "        4      4\n",
      "        9      9\n",
      "        6      6\n",
      "        6      6\n",
      "        5      5\n",
      "        4      4\n",
      "        0      0\n",
      "        7      7\n",
      "        4      4\n",
      "        0      0\n",
      "        1      1\n",
      "        3      3\n",
      "        1      1\n",
      "        3      3\n",
      "        4      4\n",
      "        7      7\n",
      "        2      2\n",
      "        7      7\n",
      "        1      1\n",
      "        2      2\n",
      "        1      1\n",
      "        1      1\n",
      "        7      7\n",
      "        4      4\n",
      "        2      2\n",
      "        3      3\n",
      "        5      5\n",
      "        1      1\n",
      "        2      2\n",
      "        4      4\n",
      "        4      4\n",
      "        6      6\n",
      "        3      3\n",
      "        5      5\n",
      "        5      5\n",
      "        6      6\n",
      "        0      0\n",
      "        4      4\n",
      "        1      1\n",
      "        9      9\n",
      "        5      5\n",
      "        7      7\n",
      "        8      8\n",
      "        9      9\n",
      "        3      3\n",
      "        7      7\n",
      "        4      4\n",
      "        6      6\n",
      "        4      4\n",
      "        3      3\n",
      "        0      0\n",
      "        7      7\n",
      "        0      0\n",
      "        2      2\n",
      "        9      9\n",
      "        1      1\n",
      "        7      7\n",
      "        3      3\n",
      "        2      2\n",
      "        9      9\n",
      "        7      7\n",
      "        7      7\n",
      "        6      6\n",
      "        2      2\n",
      "        7      7\n",
      "        8      8\n",
      "        4      4\n",
      "        7      7\n",
      "        3      3\n",
      "        6      6\n",
      "        1      1\n",
      "        3      3\n",
      "        6      6\n",
      "        9      9\n",
      "        3      3\n",
      "        1      1\n",
      "        4      4\n",
      "        1      1\n",
      "        7      7\n",
      "        6      6\n",
      "        9      9\n"
     ]
    }
   ],
   "source": [
    "k_neighbors: KNeighborsClassifier = unpickle_model('kneighbors_digit_model.dat')\n",
    "y_pred = k_neighbors.predict(x_test)\n",
    "score = k_neighbors.score(x_test, y_test)\n",
    "print(f'Score = {score}')\n",
    "print('Predicted Actual')\n",
    "print('--------- ------')\n",
    "for i, prediction in enumerate(y_pred):\n",
    "    if i == 100:\n",
    "        break\n",
    "    print('{0:9} {1:6}'.format(prediction, y_test[i]))"
   ],
   "metadata": {
    "collapsed": false,
    "pycharm": {
     "name": "#%%\n"
    }
   }
  },
  {
   "cell_type": "code",
   "execution_count": 28,
   "outputs": [
    {
     "name": "stdout",
     "output_type": "stream",
     "text": [
      "Score = 0.9669\n",
      "Predicted Actual\n",
      "--------- ------\n",
      "        7      7\n",
      "        2      2\n",
      "        1      1\n",
      "        0      0\n",
      "        4      4\n",
      "        1      1\n",
      "        4      4\n",
      "        9      9\n",
      "        5      5\n",
      "        9      9\n",
      "        0      0\n",
      "        6      6\n",
      "        9      9\n",
      "        0      0\n",
      "        1      1\n",
      "        5      5\n",
      "        9      9\n",
      "        7      7\n",
      "        3      3\n",
      "        4      4\n",
      "        9      9\n",
      "        6      6\n",
      "        6      6\n",
      "        5      5\n",
      "        4      4\n",
      "        0      0\n",
      "        7      7\n",
      "        4      4\n",
      "        0      0\n",
      "        1      1\n",
      "        3      3\n",
      "        1      1\n",
      "        3      3\n",
      "        4      4\n",
      "        7      7\n",
      "        2      2\n",
      "        7      7\n",
      "        1      1\n",
      "        2      2\n",
      "        1      1\n",
      "        1      1\n",
      "        7      7\n",
      "        4      4\n",
      "        2      2\n",
      "        3      3\n",
      "        5      5\n",
      "        1      1\n",
      "        2      2\n",
      "        4      4\n",
      "        4      4\n",
      "        6      6\n",
      "        3      3\n",
      "        5      5\n",
      "        5      5\n",
      "        6      6\n",
      "        0      0\n",
      "        4      4\n",
      "        1      1\n",
      "        9      9\n",
      "        5      5\n",
      "        7      7\n",
      "        8      8\n",
      "        9      9\n",
      "        3      3\n",
      "        7      7\n",
      "        4      4\n",
      "        6      6\n",
      "        4      4\n",
      "        3      3\n",
      "        0      0\n",
      "        7      7\n",
      "        0      0\n",
      "        2      2\n",
      "        7      9\n",
      "        1      1\n",
      "        7      7\n",
      "        3      3\n",
      "        2      2\n",
      "        9      9\n",
      "        7      7\n",
      "        7      7\n",
      "        6      6\n",
      "        2      2\n",
      "        7      7\n",
      "        8      8\n",
      "        4      4\n",
      "        7      7\n",
      "        3      3\n",
      "        6      6\n",
      "        1      1\n",
      "        3      3\n",
      "        6      6\n",
      "        9      9\n",
      "        3      3\n",
      "        1      1\n",
      "        4      4\n",
      "        1      1\n",
      "        7      7\n",
      "        6      6\n",
      "        9      9\n"
     ]
    }
   ],
   "source": [
    "random_forest: RandomForestClassifier = unpickle_model('randomforest_digit_model.dat')\n",
    "y_pred = random_forest.predict(x_test)\n",
    "score = random_forest.score(x_test, y_test)\n",
    "print(f'Score = {score}')\n",
    "print('Predicted Actual')\n",
    "print('--------- ------')\n",
    "for i, prediction in enumerate(y_pred):\n",
    "    if i == 100:\n",
    "        break\n",
    "    print('{0:9} {1:6}'.format(prediction, y_test[i]))"
   ],
   "metadata": {
    "collapsed": false,
    "pycharm": {
     "name": "#%%\n"
    }
   }
  },
  {
   "cell_type": "code",
   "execution_count": 99,
   "outputs": [],
   "source": [
    "from PIL import Image\n",
    "test_image = \"test_3.png\"\n",
    "# 3 for test since worst image; 0 is best image\n",
    "resized_img = Image.open(test_image).resize((28, 28), resample=0)\n",
    "resized_img = resized_img.convert('1')  # black and white\n"
   ],
   "metadata": {
    "collapsed": false,
    "pycharm": {
     "name": "#%%\n"
    }
   }
  },
  {
   "cell_type": "code",
   "execution_count": 139,
   "outputs": [],
   "source": [
    "def predict(image):\n",
    "    img = cv2.imread(image, 0)\n",
    "    img = cv2.resize(img, (28, 28))  # resize: model trained on 28x28\n",
    "    img = cv2.bitwise_not(img)  # invert black and white\n",
    "\n",
    "    img = img.reshape(img.shape[0] * img.shape[1])\n",
    "    img = img/255  # scale 255 to 1\n",
    "    img = np.array([img])\n",
    "\n",
    "    pred = random_forest.predict(img)[0]\n",
    "    pred_prob = random_forest.predict_proba(img)\n",
    "    print(f'Random forest prediction: {pred}')\n",
    "    print(f'{pred_prob}\\n')\n",
    "\n",
    "    pred = k_neighbors.predict(img)[0]\n",
    "    pred_prob = k_neighbors.predict_proba(img)\n",
    "    print(f'K neighbors prediction: {classes[pred]}')\n",
    "    print(f'{pred_prob}\\n\\n')"
   ],
   "metadata": {
    "collapsed": false,
    "pycharm": {
     "name": "#%%\n"
    }
   }
  },
  {
   "cell_type": "code",
   "execution_count": 140,
   "outputs": [
    {
     "name": "stdout",
     "output_type": "stream",
     "text": [
      "Image: test_digit.png\n",
      "Random forest prediction: 1\n",
      "[[0.01666667 0.23       0.08       0.07166667 0.05833333 0.225\n",
      "  0.075      0.07333333 0.10166667 0.06833333]]\n",
      "\n",
      "K neighbors prediction: 1\n",
      "[[0. 1. 0. 0. 0. 0. 0. 0. 0. 0.]]\n",
      "\n",
      "\n",
      "Image: test_3.png\n",
      "Random forest prediction: 3\n",
      "[[0.08333333 0.04666667 0.14333333 0.23166667 0.04333333 0.105\n",
      "  0.025      0.19666667 0.04166667 0.08333333]]\n",
      "\n",
      "K neighbors prediction: 3\n",
      "[[0. 0. 0. 1. 0. 0. 0. 0. 0. 0.]]\n",
      "\n",
      "\n"
     ]
    }
   ],
   "source": [
    "predict(\"test_digit.png\")\n",
    "predict(\"test_3.png\")\n"
   ],
   "metadata": {
    "collapsed": false,
    "pycharm": {
     "name": "#%%\n"
    }
   }
  },
  {
   "cell_type": "markdown",
   "source": [
    "        models = (\n",
    "            KNeighborsClassifier(\n",
    "                algorithm='kd_tree',\n",
    "                leaf_size=10,\n",
    "                n_jobs=-1,\n",
    "                n_neighbors=4,\n",
    "                weights='distance'\n",
    "            ),\n",
    "            RandomForestClassifier(\n",
    "                class_weight='balanced',\n",
    "                criterion='entropy',\n",
    "                max_features='log2',\n",
    "                n_estimators=600,\n",
    "                n_jobs=-1,\n",
    "                random_state=cls.random_state,\n",
    "            ),\n",
    "        )"
   ],
   "metadata": {
    "collapsed": false,
    "pycharm": {
     "name": "#%% md\n"
    }
   }
  }
 ],
 "metadata": {
  "kernelspec": {
   "display_name": "Python 3",
   "language": "python",
   "name": "python3"
  },
  "language_info": {
   "codemirror_mode": {
    "name": "ipython",
    "version": 2
   },
   "file_extension": ".py",
   "mimetype": "text/x-python",
   "name": "python",
   "nbconvert_exporter": "python",
   "pygments_lexer": "ipython2",
   "version": "2.7.6"
  }
 },
 "nbformat": 4,
 "nbformat_minor": 0
}