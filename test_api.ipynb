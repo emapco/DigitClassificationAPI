{
 "cells": [
  {
   "cell_type": "code",
   "execution_count": 23,
   "metadata": {
    "collapsed": true
   },
   "outputs": [],
   "source": [
    "import base64\n",
    "\n",
    "import requests"
   ]
  },
  {
   "cell_type": "code",
   "execution_count": 2,
   "outputs": [
    {
     "name": "stdout",
     "output_type": "stream",
     "text": [
      "{'models': [{'name': 'K Neighbors', 'prediction': 1, 'probabilities': {'0': 0.0, '1': 1.0, '2': 0.0, '3': 0.0, '4': 0.0, '5': 0.0, '6': 0.0, '7': 0.0, '8': 0.0, '9': 0.0}}, {'name': 'Random Forest', 'prediction': 1, 'probabilities': {'0': 0.01, '1': 0.32, '2': 0.07, '3': 0.05, '4': 0.04, '5': 0.25, '6': 0.06, '7': 0.06, '8': 0.09, '9': 0.04}}]}\n"
     ]
    }
   ],
   "source": [
    "img_path = 'test_1.png'\n",
    "url = 'http://127.0.0.1:5000/api/file'\n",
    "\n",
    "with open(img_path, 'rb') as img:\n",
    "    files = {'image': img}\n",
    "    y_predict = requests.post(url, files=files)\n",
    "    print(y_predict.json())"
   ],
   "metadata": {
    "collapsed": false,
    "pycharm": {
     "name": "#%%\n"
    }
   }
  },
  {
   "cell_type": "code",
   "execution_count": 31,
   "outputs": [
    {
     "name": "stdout",
     "output_type": "stream",
     "text": [
      "{'models': [{'name': 'K Neighbors', 'prediction': 1, 'probabilities': {'0': 0.0, '1': 1.0, '2': 0.0, '3': 0.0, '4': 0.0, '5': 0.0, '6': 0.0, '7': 0.0, '8': 0.0, '9': 0.0}}, {'name': 'Random Forest', 'prediction': 1, 'probabilities': {'0': 0.01, '1': 0.32, '2': 0.07, '3': 0.05, '4': 0.04, '5': 0.25, '6': 0.06, '7': 0.06, '8': 0.09, '9': 0.04}}]}\n"
     ]
    }
   ],
   "source": [
    "img_path = 'test_1.png'\n",
    "url = 'http://127.0.0.1:5000/api/data'\n",
    "with open(img_path, 'rb') as file:\n",
    "    b64_img = base64.b64encode(file.read())\n",
    "    y_predict = requests.post(url, data=b64_img)\n",
    "    print(y_predict.json())"
   ],
   "metadata": {
    "collapsed": false,
    "pycharm": {
     "name": "#%%\n"
    }
   }
  },
  {
   "cell_type": "code",
   "execution_count": null,
   "outputs": [],
   "source": [],
   "metadata": {
    "collapsed": false,
    "pycharm": {
     "name": "#%%\n"
    }
   }
  }
 ],
 "metadata": {
  "kernelspec": {
   "display_name": "Python 3",
   "language": "python",
   "name": "python3"
  },
  "language_info": {
   "codemirror_mode": {
    "name": "ipython",
    "version": 2
   },
   "file_extension": ".py",
   "mimetype": "text/x-python",
   "name": "python",
   "nbconvert_exporter": "python",
   "pygments_lexer": "ipython2",
   "version": "2.7.6"
  }
 },
 "nbformat": 4,
 "nbformat_minor": 0
}