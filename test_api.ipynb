{
 "cells": [
  {
   "cell_type": "code",
   "execution_count": 1,
   "metadata": {
    "collapsed": true
   },
   "outputs": [],
   "source": [
    "import requests"
   ]
  },
  {
   "cell_type": "code",
   "execution_count": 5,
   "outputs": [
    {
     "name": "stdout",
     "output_type": "stream",
     "text": [
      "{'message': {'classes': [0, 1, 2, 3, 4, 5, 6, 7, 8, 9], 'k_neighbors_pred': 1, 'k_neighbors_prob': [0.0, 1.0, 0.0, 0.0, 0.0, 0.0, 0.0, 0.0, 0.0, 0.0], 'random_forest_pred': 1, 'random_forest_prob': [0.02, 0.23, 0.08, 0.07, 0.06, 0.22, 0.08, 0.07, 0.1, 0.07]}}\n"
     ]
    }
   ],
   "source": [
    "img_path = 'test_1.png'\n",
    "url = 'http://127.0.0.1:5000/digit'\n",
    "\n",
    "with open(img_path, 'rb') as img:\n",
    "    files = {'image': img}\n",
    "    y_predict = requests.post(url, files=files)\n",
    "    print(y_predict.json())"
   ],
   "metadata": {
    "collapsed": false,
    "pycharm": {
     "name": "#%%\n"
    }
   }
  },
  {
   "cell_type": "code",
   "execution_count": 52,
   "outputs": [
    {
     "name": "stdout",
     "output_type": "stream",
     "text": [
      "{'image': <_io.BufferedReader name='test_1.png'>}\n"
     ]
    }
   ],
   "source": [
    "with open(img_path, 'rb') as img:\n",
    "    files = {'image': img}\n",
    "    print(files)\n"
   ],
   "metadata": {
    "collapsed": false,
    "pycharm": {
     "name": "#%%\n"
    }
   }
  }
 ],
 "metadata": {
  "kernelspec": {
   "display_name": "Python 3",
   "language": "python",
   "name": "python3"
  },
  "language_info": {
   "codemirror_mode": {
    "name": "ipython",
    "version": 2
   },
   "file_extension": ".py",
   "mimetype": "text/x-python",
   "name": "python",
   "nbconvert_exporter": "python",
   "pygments_lexer": "ipython2",
   "version": "2.7.6"
  }
 },
 "nbformat": 4,
 "nbformat_minor": 0
}